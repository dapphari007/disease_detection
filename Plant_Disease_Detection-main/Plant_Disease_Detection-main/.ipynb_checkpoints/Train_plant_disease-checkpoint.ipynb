{
 "cells": [
  {
   "cell_type": "markdown",
   "id": "8cefc187-83d2-4392-a845-8ed0b010be16",
   "metadata": {},
   "source": [
    "## Importing Libraries"
   ]
  },
  {
   "cell_type": "code",
   "execution_count": 5,
   "id": "50000347-a28d-4a90-a35f-e07ca9cce764",
   "metadata": {},
   "outputs": [
    {
     "name": "stdout",
     "output_type": "stream",
     "text": [
      "<keras.src.optimizers.sgd.SGD object at 0x000001B8B56C8440>\n"
     ]
    }
   ],
   "source": [
    "import tensorflow as tf\n",
    "import matplotlib.pyplot as plt\n",
    "import pandas as pd\n",
    "import seaborn as sns\n",
    "from tensorflow import keras\n",
    "from keras.datasets import mnist\n",
    "from keras.models import Sequential\n",
    "from keras.layers import Dense, Dropout, Flatten,Conv2D,MaxPooling2D\n",
    "from __future__ import print_function\n",
    "from keras import optimizers\n",
    "model = Sequential()\n",
    "\n",
    "opt = optimizers.SGD(learning_rate=0.01, momentum=0.9) \n",
    "print(opt)\n",
    "\n",
    "model.compile(loss=keras.losses.categorical_crossentropy, optimizer=opt,metrics=['accuracy'])#keras.optimizers.Adadelta()"
   ]
  },
  {
   "cell_type": "markdown",
   "id": "24bbe21a-6148-49e0-acf9-9e28a89ec3ff",
   "metadata": {},
   "source": [
    "## Data Preprocessing"
   ]
  },
  {
   "cell_type": "markdown",
   "id": "f130308b-c823-4263-8ce6-4a621ebf3096",
   "metadata": {},
   "source": [
    "### Training Image Preprocessing"
   ]
  },
  {
   "cell_type": "code",
   "execution_count": 8,
   "id": "77465b9d-4dbe-4dfd-a975-02e5f7177611",
   "metadata": {},
   "outputs": [
    {
     "name": "stdout",
     "output_type": "stream",
     "text": [
      "Found 70295 files belonging to 38 classes.\n"
     ]
    }
   ],
   "source": [
    "training_set = tf.keras.utils.image_dataset_from_directory(\n",
    "    'train',\n",
    "    labels=\"inferred\",\n",
    "    label_mode=\"categorical\",\n",
    "    class_names=None,\n",
    "    color_mode=\"rgb\",\n",
    "    batch_size=32,\n",
    "    image_size=(128, 128),\n",
    "    shuffle=True,\n",
    "    seed=None,\n",
    "    validation_split=None,\n",
    "    subset=None,\n",
    "    interpolation=\"bilinear\",\n",
    "    follow_links=False,\n",
    "    crop_to_aspect_ratio=False,\n",
    "    pad_to_aspect_ratio=False,\n",
    "    verbose=True,\n",
    ")"
   ]
  },
  {
   "cell_type": "markdown",
   "id": "c5b01ff2-6f1f-417b-92f0-2f74d45cd49d",
   "metadata": {},
   "source": [
    "### Validation Image Preprocessing"
   ]
  },
  {
   "cell_type": "code",
   "execution_count": 10,
   "id": "7b4fcf0a-01b2-429b-bed4-895ef35c8983",
   "metadata": {},
   "outputs": [
    {
     "name": "stdout",
     "output_type": "stream",
     "text": [
      "Found 17572 files belonging to 38 classes.\n"
     ]
    }
   ],
   "source": [
    "validation_set = tf.keras.utils.image_dataset_from_directory(\n",
    "    'valid',\n",
    "    labels=\"inferred\",\n",
    "    label_mode=\"categorical\",\n",
    "    class_names=None,\n",
    "    color_mode=\"rgb\",\n",
    "    batch_size=32,\n",
    "    image_size=(128, 128),\n",
    "    shuffle=True,\n",
    "    seed=None,\n",
    "    validation_split=None,\n",
    "    subset=None,\n",
    "    interpolation=\"bilinear\",\n",
    "    follow_links=False,\n",
    "    crop_to_aspect_ratio=False,\n",
    "    pad_to_aspect_ratio=False,\n",
    "    verbose=True,\n",
    ")"
   ]
  },
  {
   "cell_type": "code",
   "execution_count": 11,
   "id": "d53fed46-75be-418c-9e34-3d0aa72c27a6",
   "metadata": {},
   "outputs": [
    {
     "data": {
      "text/plain": [
       "<_PrefetchDataset element_spec=(TensorSpec(shape=(None, 128, 128, 3), dtype=tf.float32, name=None), TensorSpec(shape=(None, 38), dtype=tf.float32, name=None))>"
      ]
     },
     "execution_count": 11,
     "metadata": {},
     "output_type": "execute_result"
    }
   ],
   "source": [
    "training_set"
   ]
  },
  {
   "cell_type": "code",
   "execution_count": 12,
   "id": "dedb1dfb-3ab2-479b-87e6-8df18804b37a",
   "metadata": {},
   "outputs": [
    {
     "name": "stdout",
     "output_type": "stream",
     "text": [
      "tf.Tensor(\n",
      "[[[[165.75 161.75 162.75]\n",
      "   [167.25 163.25 164.25]\n",
      "   [169.5  165.5  166.5 ]\n",
      "   ...\n",
      "   [167.25 163.25 160.25]\n",
      "   [167.25 163.25 160.25]\n",
      "   [167.5  163.5  160.5 ]]\n",
      "\n",
      "  [[160.5  156.5  157.5 ]\n",
      "   [163.   159.   160.  ]\n",
      "   [163.25 159.25 160.25]\n",
      "   ...\n",
      "   [165.   161.   158.  ]\n",
      "   [163.5  159.5  156.5 ]\n",
      "   [166.5  162.5  159.5 ]]\n",
      "\n",
      "  [[161.5  157.5  158.5 ]\n",
      "   [164.75 160.75 161.75]\n",
      "   [163.   159.   160.  ]\n",
      "   ...\n",
      "   [165.25 161.25 158.25]\n",
      "   [165.   161.   158.  ]\n",
      "   [168.75 164.75 161.75]]\n",
      "\n",
      "  ...\n",
      "\n",
      "  [[140.5  127.5  119.5 ]\n",
      "   [146.   133.   125.  ]\n",
      "   [136.25 123.25 115.25]\n",
      "   ...\n",
      "   [ 35.25  27.    25.  ]\n",
      "   [ 31.75  23.5   21.75]\n",
      "   [ 23.75  15.5   13.75]]\n",
      "\n",
      "  [[137.   124.   116.  ]\n",
      "   [136.5  123.5  115.5 ]\n",
      "   [136.75 123.75 115.75]\n",
      "   ...\n",
      "   [ 21.5   17.75  16.75]\n",
      "   [ 16.5   12.75  11.75]\n",
      "   [ 18.5   14.75  13.75]]\n",
      "\n",
      "  [[132.   119.   111.  ]\n",
      "   [135.75 122.75 114.75]\n",
      "   [133.75 120.75 112.75]\n",
      "   ...\n",
      "   [ 15.    14.75  12.75]\n",
      "   [ 14.75  14.5   12.5 ]\n",
      "   [ 14.    13.5   13.75]]]\n",
      "\n",
      "\n",
      " [[[154.5  141.5  150.5 ]\n",
      "   [155.5  142.5  151.5 ]\n",
      "   [177.25 164.25 173.25]\n",
      "   ...\n",
      "   [177.25 166.25 174.25]\n",
      "   [193.5  182.5  190.5 ]\n",
      "   [182.75 171.75 179.75]]\n",
      "\n",
      "  [[160.75 147.75 156.75]\n",
      "   [141.   128.   137.  ]\n",
      "   [163.5  150.5  159.5 ]\n",
      "   ...\n",
      "   [197.   186.   194.  ]\n",
      "   [202.75 191.75 199.75]\n",
      "   [189.5  178.5  186.5 ]]\n",
      "\n",
      "  [[164.5  151.5  160.5 ]\n",
      "   [159.5  146.5  155.5 ]\n",
      "   [164.25 151.25 160.25]\n",
      "   ...\n",
      "   [186.5  175.5  183.5 ]\n",
      "   [191.25 180.25 188.25]\n",
      "   [197.5  186.5  194.5 ]]\n",
      "\n",
      "  ...\n",
      "\n",
      "  [[162.25 147.25 152.25]\n",
      "   [154.5  139.5  144.5 ]\n",
      "   [143.25 128.25 133.25]\n",
      "   ...\n",
      "   [160.75 148.75 152.75]\n",
      "   [151.   139.   143.  ]\n",
      "   [160.75 148.75 152.75]]\n",
      "\n",
      "  [[169.   154.   159.  ]\n",
      "   [147.5  132.5  137.5 ]\n",
      "   [149.   134.   139.  ]\n",
      "   ...\n",
      "   [170.25 158.25 162.25]\n",
      "   [153.25 141.25 145.25]\n",
      "   [181.   169.   173.  ]]\n",
      "\n",
      "  [[156.   141.   146.  ]\n",
      "   [170.25 155.25 160.25]\n",
      "   [156.25 141.25 146.25]\n",
      "   ...\n",
      "   [166.25 154.25 158.25]\n",
      "   [155.25 143.25 147.25]\n",
      "   [170.5  158.5  162.5 ]]]\n",
      "\n",
      "\n",
      " [[[144.5  145.5  137.5 ]\n",
      "   [147.   148.   140.  ]\n",
      "   [148.75 149.75 141.75]\n",
      "   ...\n",
      "   [137.75 137.75 137.75]\n",
      "   [139.5  139.5  139.5 ]\n",
      "   [138.75 138.75 138.75]]\n",
      "\n",
      "  [[143.5  144.5  136.5 ]\n",
      "   [145.5  146.5  138.5 ]\n",
      "   [146.5  147.5  139.5 ]\n",
      "   ...\n",
      "   [140.   140.   140.  ]\n",
      "   [141.   141.   141.  ]\n",
      "   [140.75 140.75 140.75]]\n",
      "\n",
      "  [[144.75 145.75 137.75]\n",
      "   [146.   147.   139.  ]\n",
      "   [146.25 147.25 139.25]\n",
      "   ...\n",
      "   [140.   140.   140.  ]\n",
      "   [140.5  140.5  140.5 ]\n",
      "   [141.75 141.75 141.75]]\n",
      "\n",
      "  ...\n",
      "\n",
      "  [[100.   106.   104.  ]\n",
      "   [110.75 116.75 114.75]\n",
      "   [112.25 118.25 116.25]\n",
      "   ...\n",
      "   [120.5  121.5  116.5 ]\n",
      "   [120.   121.   116.  ]\n",
      "   [116.   117.   112.  ]]\n",
      "\n",
      "  [[102.25 108.25 106.25]\n",
      "   [103.75 109.75 107.75]\n",
      "   [ 93.    99.    97.  ]\n",
      "   ...\n",
      "   [114.   115.   110.  ]\n",
      "   [112.5  113.5  108.5 ]\n",
      "   [113.25 114.25 109.25]]\n",
      "\n",
      "  [[ 96.   102.   100.  ]\n",
      "   [ 94.   100.    98.  ]\n",
      "   [ 98.75 104.75 102.75]\n",
      "   ...\n",
      "   [111.75 112.75 107.75]\n",
      "   [111.5  112.5  107.5 ]\n",
      "   [109.25 110.25 105.25]]]\n",
      "\n",
      "\n",
      " ...\n",
      "\n",
      "\n",
      " [[[ 55.5   50.25  61.5 ]\n",
      "   [ 53.75  49.25  59.75]\n",
      "   [ 53.    48.25  59.  ]\n",
      "   ...\n",
      "   [ 60.5   53.25  63.5 ]\n",
      "   [ 57.75  51.75  60.75]\n",
      "   [ 59.    52.25  62.  ]]\n",
      "\n",
      "  [[102.5   96.5  108.5 ]\n",
      "   [103.25  97.25 109.25]\n",
      "   [102.    96.   108.  ]\n",
      "   ...\n",
      "   [114.   106.   117.  ]\n",
      "   [114.   106.   117.  ]\n",
      "   [110.   102.   113.  ]]\n",
      "\n",
      "  [[106.25 100.25 112.25]\n",
      "   [100.25  94.25 106.25]\n",
      "   [110.5  104.5  116.5 ]\n",
      "   ...\n",
      "   [116.75 108.75 119.75]\n",
      "   [116.25 108.25 119.25]\n",
      "   [111.5  103.5  114.5 ]]\n",
      "\n",
      "  ...\n",
      "\n",
      "  [[117.   110.   126.  ]\n",
      "   [116.5  109.5  125.5 ]\n",
      "   [113.25 106.25 122.25]\n",
      "   ...\n",
      "   [145.   128.   144.  ]\n",
      "   [139.25 122.25 138.25]\n",
      "   [143.   126.   142.  ]]\n",
      "\n",
      "  [[115.75 108.75 124.75]\n",
      "   [110.   103.   119.  ]\n",
      "   [109.75 102.75 118.75]\n",
      "   ...\n",
      "   [145.   128.   144.  ]\n",
      "   [139.   122.   138.  ]\n",
      "   [141.25 124.25 140.25]]\n",
      "\n",
      "  [[117.75 110.75 126.75]\n",
      "   [107.75 100.75 116.75]\n",
      "   [109.75 102.75 118.75]\n",
      "   ...\n",
      "   [147.25 130.25 146.25]\n",
      "   [141.25 124.25 140.25]\n",
      "   [142.5  125.5  141.5 ]]]\n",
      "\n",
      "\n",
      " [[[  0.     0.     0.  ]\n",
      "   [  0.     0.     0.  ]\n",
      "   [  0.     0.     0.  ]\n",
      "   ...\n",
      "   [  0.     0.     0.  ]\n",
      "   [  0.     0.     0.  ]\n",
      "   [  0.     0.     0.  ]]\n",
      "\n",
      "  [[  0.     0.     0.  ]\n",
      "   [  0.     0.     0.  ]\n",
      "   [  0.     0.     0.  ]\n",
      "   ...\n",
      "   [  0.     0.     0.  ]\n",
      "   [  0.     0.     0.  ]\n",
      "   [  0.     0.     0.  ]]\n",
      "\n",
      "  [[  0.     0.     0.  ]\n",
      "   [  0.     0.     0.  ]\n",
      "   [  0.     0.     0.  ]\n",
      "   ...\n",
      "   [  0.     0.     0.  ]\n",
      "   [  0.     0.     0.  ]\n",
      "   [  0.     0.     0.  ]]\n",
      "\n",
      "  ...\n",
      "\n",
      "  [[  0.     0.     0.  ]\n",
      "   [  0.     0.     0.  ]\n",
      "   [  0.     0.     0.  ]\n",
      "   ...\n",
      "   [  0.     0.     0.  ]\n",
      "   [  0.     0.     0.  ]\n",
      "   [  0.     0.     0.  ]]\n",
      "\n",
      "  [[  0.     0.     0.  ]\n",
      "   [  0.     0.     0.  ]\n",
      "   [  0.     0.     0.  ]\n",
      "   ...\n",
      "   [  0.     0.     0.  ]\n",
      "   [  0.     0.     0.  ]\n",
      "   [  0.     0.     0.  ]]\n",
      "\n",
      "  [[  0.     0.     0.  ]\n",
      "   [  0.     0.     0.  ]\n",
      "   [  0.     0.     0.  ]\n",
      "   ...\n",
      "   [  0.     0.     0.  ]\n",
      "   [  0.     0.     0.  ]\n",
      "   [  0.     0.     0.  ]]]\n",
      "\n",
      "\n",
      " [[[186.   180.   184.  ]\n",
      "   [185.25 179.25 183.25]\n",
      "   [186.   180.   184.  ]\n",
      "   ...\n",
      "   [209.25 205.25 206.25]\n",
      "   [213.5  209.5  210.5 ]\n",
      "   [215.   211.   212.  ]]\n",
      "\n",
      "  [[180.25 174.25 178.25]\n",
      "   [185.25 179.25 183.25]\n",
      "   [180.5  174.5  178.5 ]\n",
      "   ...\n",
      "   [208.75 204.75 205.75]\n",
      "   [212.   208.   209.  ]\n",
      "   [215.   211.   212.  ]]\n",
      "\n",
      "  [[178.75 172.75 176.75]\n",
      "   [184.   178.   182.  ]\n",
      "   [185.5  179.5  183.5 ]\n",
      "   ...\n",
      "   [213.5  209.5  210.5 ]\n",
      "   [213.25 209.25 210.25]\n",
      "   [215.25 211.25 212.25]]\n",
      "\n",
      "  ...\n",
      "\n",
      "  [[162.25 148.25 148.25]\n",
      "   [182.5  168.5  168.5 ]\n",
      "   [160.5  146.5  146.5 ]\n",
      "   ...\n",
      "   [179.   165.   164.  ]\n",
      "   [179.   165.   164.  ]\n",
      "   [180.5  166.5  165.5 ]]\n",
      "\n",
      "  [[173.   159.   159.  ]\n",
      "   [173.5  159.5  159.5 ]\n",
      "   [166.   152.   152.  ]\n",
      "   ...\n",
      "   [172.5  158.5  157.5 ]\n",
      "   [173.25 159.25 158.25]\n",
      "   [183.   169.   168.  ]]\n",
      "\n",
      "  [[173.5  159.5  159.5 ]\n",
      "   [168.5  154.5  154.5 ]\n",
      "   [175.75 161.75 161.75]\n",
      "   ...\n",
      "   [177.5  163.5  162.5 ]\n",
      "   [181.   167.   166.  ]\n",
      "   [181.75 167.75 166.75]]]], shape=(32, 128, 128, 3), dtype=float32) (32, 128, 128, 3)\n",
      "tf.Tensor(\n",
      "[[0. 0. 0. ... 0. 0. 0.]\n",
      " [0. 0. 0. ... 0. 0. 0.]\n",
      " [0. 0. 0. ... 1. 0. 0.]\n",
      " ...\n",
      " [1. 0. 0. ... 0. 0. 0.]\n",
      " [0. 0. 0. ... 0. 0. 0.]\n",
      " [0. 0. 0. ... 0. 0. 0.]], shape=(32, 38), dtype=float32) (32, 38)\n"
     ]
    }
   ],
   "source": [
    "for x,y in training_set:\n",
    "    print(x,x.shape)\n",
    "    print(y,y.shape)\n",
    "    break"
   ]
  },
  {
   "cell_type": "markdown",
   "id": "8a586ba0-2391-4503-a9d6-97b861ef98a1",
   "metadata": {},
   "source": [
    "### To avoid Overshooting\n",
    "1. Choose small learning rate default 0.001 we are taking 0.0001\n",
    "2. There may be chance of Underfitting, so increase number of neuron\n",
    "3. Add more Convolution layer to extract more feature from images there may be possibilty that model unable to capture relevant feature or\n",
    "model is confusing due to lack of feature so feed with more feature"
   ]
  },
  {
   "cell_type": "markdown",
   "id": "36209709-5bed-4e43-b455-80b03ba97f37",
   "metadata": {},
   "source": [
    "## Building model"
   ]
  },
  {
   "cell_type": "code",
   "execution_count": 15,
   "id": "997732ba-08e2-4188-be6a-eb39dc9a72cb",
   "metadata": {},
   "outputs": [],
   "source": [
    "from tensorflow. keras. layers import Dense, Conv2D, MaxPool2D, Flatten, Dropout\n",
    "from tensorflow. keras.models import Sequential"
   ]
  },
  {
   "cell_type": "code",
   "execution_count": 16,
   "id": "1e1e10cc-2a34-4320-ad82-d6508af065e6",
   "metadata": {},
   "outputs": [],
   "source": [
    "## Building Convolution Layer"
   ]
  },
  {
   "cell_type": "code",
   "execution_count": 17,
   "id": "bbe186a1-9a86-418d-b26d-63cd190e2cb2",
   "metadata": {},
   "outputs": [],
   "source": [
    "model = Sequential()"
   ]
  },
  {
   "cell_type": "code",
   "execution_count": 18,
   "id": "053f6cd6-69ce-44cb-b268-2821beee67f2",
   "metadata": {},
   "outputs": [
    {
     "name": "stderr",
     "output_type": "stream",
     "text": [
      "C:\\Users\\dhina\\OneDrive\\Desktop\\Plant_disease_detection copy\\tensorflow_env\\Lib\\site-packages\\keras\\src\\layers\\convolutional\\base_conv.py:107: UserWarning: Do not pass an `input_shape`/`input_dim` argument to a layer. When using Sequential models, prefer using an `Input(shape)` object as the first layer in the model instead.\n",
      "  super().__init__(activity_regularizer=activity_regularizer, **kwargs)\n"
     ]
    }
   ],
   "source": [
    "model.add(Conv2D (filters=32, kernel_size=3,padding='same',activation='relu',input_shape=[128,128,3]))\n",
    "model.add(Conv2D (filters=32, kernel_size=3,activation='relu'))\n",
    "model.add(MaxPool2D(pool_size=2,strides=2))"
   ]
  },
  {
   "cell_type": "code",
   "execution_count": 19,
   "id": "492a2874-039f-47a6-92a3-156bc3d8ee20",
   "metadata": {},
   "outputs": [],
   "source": [
    "model.add(Conv2D (filters=64,kernel_size=3,padding='same',activation='relu',))\n",
    "model.add(Conv2D (filters=64,kernel_size=3,activation='relu'))\n",
    "model.add(MaxPool2D(pool_size=2,strides=2))"
   ]
  },
  {
   "cell_type": "code",
   "execution_count": 20,
   "id": "72fe7579-ab14-4fe8-8e5f-0e8c0654f3ca",
   "metadata": {},
   "outputs": [],
   "source": [
    "model.add(Conv2D (filters=128,kernel_size=3,padding='same', activation='relu'))\n",
    "model.add(Conv2D (filters=128,kernel_size=3,activation='relu'))\n",
    "model.add(MaxPool2D(pool_size=2,strides=2))"
   ]
  },
  {
   "cell_type": "code",
   "execution_count": 21,
   "id": "bd7aef01-781f-43d6-92bf-d95d63418ac3",
   "metadata": {},
   "outputs": [],
   "source": [
    "model.add(Conv2D (filters=256,kernel_size=3,padding='same',activation='relu'))\n",
    "model.add(Conv2D (filters=256,kernel_size=3,activation='relu'))\n",
    "model.add(MaxPool2D(pool_size=2,strides=2))"
   ]
  },
  {
   "cell_type": "code",
   "execution_count": 22,
   "id": "9052a0c1-63f4-4896-b170-26fc5492e01a",
   "metadata": {},
   "outputs": [],
   "source": [
    "model.add(Conv2D (filters=512,kernel_size=3,padding='same',activation='relu'))\n",
    "model.add(Conv2D (filters=512,kernel_size=3,activation='relu'))\n",
    "model.add(MaxPool2D(pool_size=2, strides=2))"
   ]
  },
  {
   "cell_type": "code",
   "execution_count": 23,
   "id": "51acac92-1cee-4dfe-a943-32edcc299333",
   "metadata": {},
   "outputs": [],
   "source": [
    "model.add(Dropout (0.25))"
   ]
  },
  {
   "cell_type": "code",
   "execution_count": 24,
   "id": "e16d00a5-f977-4ba3-a3fd-e11f361bfc53",
   "metadata": {},
   "outputs": [],
   "source": [
    "model.add(Flatten())"
   ]
  },
  {
   "cell_type": "code",
   "execution_count": 25,
   "id": "0ff0a0c7-fb61-46b1-8db6-900ed91e191e",
   "metadata": {},
   "outputs": [],
   "source": [
    "model.add(Dense (units=1500, activation='relu'))"
   ]
  },
  {
   "cell_type": "code",
   "execution_count": 26,
   "id": "6f9fb37f-f561-43c7-acd8-61db6a4687b2",
   "metadata": {},
   "outputs": [],
   "source": [
    "model.add(Dropout (0.4))"
   ]
  },
  {
   "cell_type": "code",
   "execution_count": 27,
   "id": "06f4c3ab-c316-4dbe-b012-0fc7d6b89c5c",
   "metadata": {},
   "outputs": [],
   "source": [
    "#Output Layer\n",
    "model.add(Dense (units=38, activation='softmax'))"
   ]
  },
  {
   "cell_type": "markdown",
   "id": "4c003412-8ba7-4ff7-a205-fe8d2cfab1da",
   "metadata": {},
   "source": [
    "### Compiling Model"
   ]
  },
  {
   "cell_type": "code",
   "execution_count": 29,
   "id": "578cd74b-cb67-4c94-890e-4ad9aa181c77",
   "metadata": {
    "scrolled": true
   },
   "outputs": [],
   "source": [
    "model.compile(optimizer=tf.keras.optimizers.Adam(\n",
    "learning_rate=0.0001), loss='categorical_crossentropy', metrics=['accuracy'])"
   ]
  },
  {
   "cell_type": "code",
   "execution_count": 30,
   "id": "57cfd6ba-1ff7-47ab-b2ed-e714be1e8995",
   "metadata": {},
   "outputs": [
    {
     "data": {
      "text/html": [
       "<pre style=\"white-space:pre;overflow-x:auto;line-height:normal;font-family:Menlo,'DejaVu Sans Mono',consolas,'Courier New',monospace\"><span style=\"font-weight: bold\">Model: \"sequential_1\"</span>\n",
       "</pre>\n"
      ],
      "text/plain": [
       "\u001b[1mModel: \"sequential_1\"\u001b[0m\n"
      ]
     },
     "metadata": {},
     "output_type": "display_data"
    },
    {
     "data": {
      "text/html": [
       "<pre style=\"white-space:pre;overflow-x:auto;line-height:normal;font-family:Menlo,'DejaVu Sans Mono',consolas,'Courier New',monospace\">┏━━━━━━━━━━━━━━━━━━━━━━━━━━━━━━━━━━━━━━┳━━━━━━━━━━━━━━━━━━━━━━━━━━━━━┳━━━━━━━━━━━━━━━━━┓\n",
       "┃<span style=\"font-weight: bold\"> Layer (type)                         </span>┃<span style=\"font-weight: bold\"> Output Shape                </span>┃<span style=\"font-weight: bold\">         Param # </span>┃\n",
       "┡━━━━━━━━━━━━━━━━━━━━━━━━━━━━━━━━━━━━━━╇━━━━━━━━━━━━━━━━━━━━━━━━━━━━━╇━━━━━━━━━━━━━━━━━┩\n",
       "│ conv2d (<span style=\"color: #0087ff; text-decoration-color: #0087ff\">Conv2D</span>)                      │ (<span style=\"color: #00d7ff; text-decoration-color: #00d7ff\">None</span>, <span style=\"color: #00af00; text-decoration-color: #00af00\">128</span>, <span style=\"color: #00af00; text-decoration-color: #00af00\">128</span>, <span style=\"color: #00af00; text-decoration-color: #00af00\">32</span>)        │             <span style=\"color: #00af00; text-decoration-color: #00af00\">896</span> │\n",
       "├──────────────────────────────────────┼─────────────────────────────┼─────────────────┤\n",
       "│ conv2d_1 (<span style=\"color: #0087ff; text-decoration-color: #0087ff\">Conv2D</span>)                    │ (<span style=\"color: #00d7ff; text-decoration-color: #00d7ff\">None</span>, <span style=\"color: #00af00; text-decoration-color: #00af00\">126</span>, <span style=\"color: #00af00; text-decoration-color: #00af00\">126</span>, <span style=\"color: #00af00; text-decoration-color: #00af00\">32</span>)        │           <span style=\"color: #00af00; text-decoration-color: #00af00\">9,248</span> │\n",
       "├──────────────────────────────────────┼─────────────────────────────┼─────────────────┤\n",
       "│ max_pooling2d (<span style=\"color: #0087ff; text-decoration-color: #0087ff\">MaxPooling2D</span>)         │ (<span style=\"color: #00d7ff; text-decoration-color: #00d7ff\">None</span>, <span style=\"color: #00af00; text-decoration-color: #00af00\">63</span>, <span style=\"color: #00af00; text-decoration-color: #00af00\">63</span>, <span style=\"color: #00af00; text-decoration-color: #00af00\">32</span>)          │               <span style=\"color: #00af00; text-decoration-color: #00af00\">0</span> │\n",
       "├──────────────────────────────────────┼─────────────────────────────┼─────────────────┤\n",
       "│ conv2d_2 (<span style=\"color: #0087ff; text-decoration-color: #0087ff\">Conv2D</span>)                    │ (<span style=\"color: #00d7ff; text-decoration-color: #00d7ff\">None</span>, <span style=\"color: #00af00; text-decoration-color: #00af00\">63</span>, <span style=\"color: #00af00; text-decoration-color: #00af00\">63</span>, <span style=\"color: #00af00; text-decoration-color: #00af00\">64</span>)          │          <span style=\"color: #00af00; text-decoration-color: #00af00\">18,496</span> │\n",
       "├──────────────────────────────────────┼─────────────────────────────┼─────────────────┤\n",
       "│ conv2d_3 (<span style=\"color: #0087ff; text-decoration-color: #0087ff\">Conv2D</span>)                    │ (<span style=\"color: #00d7ff; text-decoration-color: #00d7ff\">None</span>, <span style=\"color: #00af00; text-decoration-color: #00af00\">61</span>, <span style=\"color: #00af00; text-decoration-color: #00af00\">61</span>, <span style=\"color: #00af00; text-decoration-color: #00af00\">64</span>)          │          <span style=\"color: #00af00; text-decoration-color: #00af00\">36,928</span> │\n",
       "├──────────────────────────────────────┼─────────────────────────────┼─────────────────┤\n",
       "│ max_pooling2d_1 (<span style=\"color: #0087ff; text-decoration-color: #0087ff\">MaxPooling2D</span>)       │ (<span style=\"color: #00d7ff; text-decoration-color: #00d7ff\">None</span>, <span style=\"color: #00af00; text-decoration-color: #00af00\">30</span>, <span style=\"color: #00af00; text-decoration-color: #00af00\">30</span>, <span style=\"color: #00af00; text-decoration-color: #00af00\">64</span>)          │               <span style=\"color: #00af00; text-decoration-color: #00af00\">0</span> │\n",
       "├──────────────────────────────────────┼─────────────────────────────┼─────────────────┤\n",
       "│ conv2d_4 (<span style=\"color: #0087ff; text-decoration-color: #0087ff\">Conv2D</span>)                    │ (<span style=\"color: #00d7ff; text-decoration-color: #00d7ff\">None</span>, <span style=\"color: #00af00; text-decoration-color: #00af00\">30</span>, <span style=\"color: #00af00; text-decoration-color: #00af00\">30</span>, <span style=\"color: #00af00; text-decoration-color: #00af00\">128</span>)         │          <span style=\"color: #00af00; text-decoration-color: #00af00\">73,856</span> │\n",
       "├──────────────────────────────────────┼─────────────────────────────┼─────────────────┤\n",
       "│ conv2d_5 (<span style=\"color: #0087ff; text-decoration-color: #0087ff\">Conv2D</span>)                    │ (<span style=\"color: #00d7ff; text-decoration-color: #00d7ff\">None</span>, <span style=\"color: #00af00; text-decoration-color: #00af00\">28</span>, <span style=\"color: #00af00; text-decoration-color: #00af00\">28</span>, <span style=\"color: #00af00; text-decoration-color: #00af00\">128</span>)         │         <span style=\"color: #00af00; text-decoration-color: #00af00\">147,584</span> │\n",
       "├──────────────────────────────────────┼─────────────────────────────┼─────────────────┤\n",
       "│ max_pooling2d_2 (<span style=\"color: #0087ff; text-decoration-color: #0087ff\">MaxPooling2D</span>)       │ (<span style=\"color: #00d7ff; text-decoration-color: #00d7ff\">None</span>, <span style=\"color: #00af00; text-decoration-color: #00af00\">14</span>, <span style=\"color: #00af00; text-decoration-color: #00af00\">14</span>, <span style=\"color: #00af00; text-decoration-color: #00af00\">128</span>)         │               <span style=\"color: #00af00; text-decoration-color: #00af00\">0</span> │\n",
       "├──────────────────────────────────────┼─────────────────────────────┼─────────────────┤\n",
       "│ conv2d_6 (<span style=\"color: #0087ff; text-decoration-color: #0087ff\">Conv2D</span>)                    │ (<span style=\"color: #00d7ff; text-decoration-color: #00d7ff\">None</span>, <span style=\"color: #00af00; text-decoration-color: #00af00\">14</span>, <span style=\"color: #00af00; text-decoration-color: #00af00\">14</span>, <span style=\"color: #00af00; text-decoration-color: #00af00\">256</span>)         │         <span style=\"color: #00af00; text-decoration-color: #00af00\">295,168</span> │\n",
       "├──────────────────────────────────────┼─────────────────────────────┼─────────────────┤\n",
       "│ conv2d_7 (<span style=\"color: #0087ff; text-decoration-color: #0087ff\">Conv2D</span>)                    │ (<span style=\"color: #00d7ff; text-decoration-color: #00d7ff\">None</span>, <span style=\"color: #00af00; text-decoration-color: #00af00\">12</span>, <span style=\"color: #00af00; text-decoration-color: #00af00\">12</span>, <span style=\"color: #00af00; text-decoration-color: #00af00\">256</span>)         │         <span style=\"color: #00af00; text-decoration-color: #00af00\">590,080</span> │\n",
       "├──────────────────────────────────────┼─────────────────────────────┼─────────────────┤\n",
       "│ max_pooling2d_3 (<span style=\"color: #0087ff; text-decoration-color: #0087ff\">MaxPooling2D</span>)       │ (<span style=\"color: #00d7ff; text-decoration-color: #00d7ff\">None</span>, <span style=\"color: #00af00; text-decoration-color: #00af00\">6</span>, <span style=\"color: #00af00; text-decoration-color: #00af00\">6</span>, <span style=\"color: #00af00; text-decoration-color: #00af00\">256</span>)           │               <span style=\"color: #00af00; text-decoration-color: #00af00\">0</span> │\n",
       "├──────────────────────────────────────┼─────────────────────────────┼─────────────────┤\n",
       "│ conv2d_8 (<span style=\"color: #0087ff; text-decoration-color: #0087ff\">Conv2D</span>)                    │ (<span style=\"color: #00d7ff; text-decoration-color: #00d7ff\">None</span>, <span style=\"color: #00af00; text-decoration-color: #00af00\">6</span>, <span style=\"color: #00af00; text-decoration-color: #00af00\">6</span>, <span style=\"color: #00af00; text-decoration-color: #00af00\">512</span>)           │       <span style=\"color: #00af00; text-decoration-color: #00af00\">1,180,160</span> │\n",
       "├──────────────────────────────────────┼─────────────────────────────┼─────────────────┤\n",
       "│ conv2d_9 (<span style=\"color: #0087ff; text-decoration-color: #0087ff\">Conv2D</span>)                    │ (<span style=\"color: #00d7ff; text-decoration-color: #00d7ff\">None</span>, <span style=\"color: #00af00; text-decoration-color: #00af00\">4</span>, <span style=\"color: #00af00; text-decoration-color: #00af00\">4</span>, <span style=\"color: #00af00; text-decoration-color: #00af00\">512</span>)           │       <span style=\"color: #00af00; text-decoration-color: #00af00\">2,359,808</span> │\n",
       "├──────────────────────────────────────┼─────────────────────────────┼─────────────────┤\n",
       "│ max_pooling2d_4 (<span style=\"color: #0087ff; text-decoration-color: #0087ff\">MaxPooling2D</span>)       │ (<span style=\"color: #00d7ff; text-decoration-color: #00d7ff\">None</span>, <span style=\"color: #00af00; text-decoration-color: #00af00\">2</span>, <span style=\"color: #00af00; text-decoration-color: #00af00\">2</span>, <span style=\"color: #00af00; text-decoration-color: #00af00\">512</span>)           │               <span style=\"color: #00af00; text-decoration-color: #00af00\">0</span> │\n",
       "├──────────────────────────────────────┼─────────────────────────────┼─────────────────┤\n",
       "│ dropout (<span style=\"color: #0087ff; text-decoration-color: #0087ff\">Dropout</span>)                    │ (<span style=\"color: #00d7ff; text-decoration-color: #00d7ff\">None</span>, <span style=\"color: #00af00; text-decoration-color: #00af00\">2</span>, <span style=\"color: #00af00; text-decoration-color: #00af00\">2</span>, <span style=\"color: #00af00; text-decoration-color: #00af00\">512</span>)           │               <span style=\"color: #00af00; text-decoration-color: #00af00\">0</span> │\n",
       "├──────────────────────────────────────┼─────────────────────────────┼─────────────────┤\n",
       "│ flatten (<span style=\"color: #0087ff; text-decoration-color: #0087ff\">Flatten</span>)                    │ (<span style=\"color: #00d7ff; text-decoration-color: #00d7ff\">None</span>, <span style=\"color: #00af00; text-decoration-color: #00af00\">2048</span>)                │               <span style=\"color: #00af00; text-decoration-color: #00af00\">0</span> │\n",
       "├──────────────────────────────────────┼─────────────────────────────┼─────────────────┤\n",
       "│ dense (<span style=\"color: #0087ff; text-decoration-color: #0087ff\">Dense</span>)                        │ (<span style=\"color: #00d7ff; text-decoration-color: #00d7ff\">None</span>, <span style=\"color: #00af00; text-decoration-color: #00af00\">1500</span>)                │       <span style=\"color: #00af00; text-decoration-color: #00af00\">3,073,500</span> │\n",
       "├──────────────────────────────────────┼─────────────────────────────┼─────────────────┤\n",
       "│ dropout_1 (<span style=\"color: #0087ff; text-decoration-color: #0087ff\">Dropout</span>)                  │ (<span style=\"color: #00d7ff; text-decoration-color: #00d7ff\">None</span>, <span style=\"color: #00af00; text-decoration-color: #00af00\">1500</span>)                │               <span style=\"color: #00af00; text-decoration-color: #00af00\">0</span> │\n",
       "├──────────────────────────────────────┼─────────────────────────────┼─────────────────┤\n",
       "│ dense_1 (<span style=\"color: #0087ff; text-decoration-color: #0087ff\">Dense</span>)                      │ (<span style=\"color: #00d7ff; text-decoration-color: #00d7ff\">None</span>, <span style=\"color: #00af00; text-decoration-color: #00af00\">38</span>)                  │          <span style=\"color: #00af00; text-decoration-color: #00af00\">57,038</span> │\n",
       "└──────────────────────────────────────┴─────────────────────────────┴─────────────────┘\n",
       "</pre>\n"
      ],
      "text/plain": [
       "┏━━━━━━━━━━━━━━━━━━━━━━━━━━━━━━━━━━━━━━┳━━━━━━━━━━━━━━━━━━━━━━━━━━━━━┳━━━━━━━━━━━━━━━━━┓\n",
       "┃\u001b[1m \u001b[0m\u001b[1mLayer (type)                        \u001b[0m\u001b[1m \u001b[0m┃\u001b[1m \u001b[0m\u001b[1mOutput Shape               \u001b[0m\u001b[1m \u001b[0m┃\u001b[1m \u001b[0m\u001b[1m        Param #\u001b[0m\u001b[1m \u001b[0m┃\n",
       "┡━━━━━━━━━━━━━━━━━━━━━━━━━━━━━━━━━━━━━━╇━━━━━━━━━━━━━━━━━━━━━━━━━━━━━╇━━━━━━━━━━━━━━━━━┩\n",
       "│ conv2d (\u001b[38;5;33mConv2D\u001b[0m)                      │ (\u001b[38;5;45mNone\u001b[0m, \u001b[38;5;34m128\u001b[0m, \u001b[38;5;34m128\u001b[0m, \u001b[38;5;34m32\u001b[0m)        │             \u001b[38;5;34m896\u001b[0m │\n",
       "├──────────────────────────────────────┼─────────────────────────────┼─────────────────┤\n",
       "│ conv2d_1 (\u001b[38;5;33mConv2D\u001b[0m)                    │ (\u001b[38;5;45mNone\u001b[0m, \u001b[38;5;34m126\u001b[0m, \u001b[38;5;34m126\u001b[0m, \u001b[38;5;34m32\u001b[0m)        │           \u001b[38;5;34m9,248\u001b[0m │\n",
       "├──────────────────────────────────────┼─────────────────────────────┼─────────────────┤\n",
       "│ max_pooling2d (\u001b[38;5;33mMaxPooling2D\u001b[0m)         │ (\u001b[38;5;45mNone\u001b[0m, \u001b[38;5;34m63\u001b[0m, \u001b[38;5;34m63\u001b[0m, \u001b[38;5;34m32\u001b[0m)          │               \u001b[38;5;34m0\u001b[0m │\n",
       "├──────────────────────────────────────┼─────────────────────────────┼─────────────────┤\n",
       "│ conv2d_2 (\u001b[38;5;33mConv2D\u001b[0m)                    │ (\u001b[38;5;45mNone\u001b[0m, \u001b[38;5;34m63\u001b[0m, \u001b[38;5;34m63\u001b[0m, \u001b[38;5;34m64\u001b[0m)          │          \u001b[38;5;34m18,496\u001b[0m │\n",
       "├──────────────────────────────────────┼─────────────────────────────┼─────────────────┤\n",
       "│ conv2d_3 (\u001b[38;5;33mConv2D\u001b[0m)                    │ (\u001b[38;5;45mNone\u001b[0m, \u001b[38;5;34m61\u001b[0m, \u001b[38;5;34m61\u001b[0m, \u001b[38;5;34m64\u001b[0m)          │          \u001b[38;5;34m36,928\u001b[0m │\n",
       "├──────────────────────────────────────┼─────────────────────────────┼─────────────────┤\n",
       "│ max_pooling2d_1 (\u001b[38;5;33mMaxPooling2D\u001b[0m)       │ (\u001b[38;5;45mNone\u001b[0m, \u001b[38;5;34m30\u001b[0m, \u001b[38;5;34m30\u001b[0m, \u001b[38;5;34m64\u001b[0m)          │               \u001b[38;5;34m0\u001b[0m │\n",
       "├──────────────────────────────────────┼─────────────────────────────┼─────────────────┤\n",
       "│ conv2d_4 (\u001b[38;5;33mConv2D\u001b[0m)                    │ (\u001b[38;5;45mNone\u001b[0m, \u001b[38;5;34m30\u001b[0m, \u001b[38;5;34m30\u001b[0m, \u001b[38;5;34m128\u001b[0m)         │          \u001b[38;5;34m73,856\u001b[0m │\n",
       "├──────────────────────────────────────┼─────────────────────────────┼─────────────────┤\n",
       "│ conv2d_5 (\u001b[38;5;33mConv2D\u001b[0m)                    │ (\u001b[38;5;45mNone\u001b[0m, \u001b[38;5;34m28\u001b[0m, \u001b[38;5;34m28\u001b[0m, \u001b[38;5;34m128\u001b[0m)         │         \u001b[38;5;34m147,584\u001b[0m │\n",
       "├──────────────────────────────────────┼─────────────────────────────┼─────────────────┤\n",
       "│ max_pooling2d_2 (\u001b[38;5;33mMaxPooling2D\u001b[0m)       │ (\u001b[38;5;45mNone\u001b[0m, \u001b[38;5;34m14\u001b[0m, \u001b[38;5;34m14\u001b[0m, \u001b[38;5;34m128\u001b[0m)         │               \u001b[38;5;34m0\u001b[0m │\n",
       "├──────────────────────────────────────┼─────────────────────────────┼─────────────────┤\n",
       "│ conv2d_6 (\u001b[38;5;33mConv2D\u001b[0m)                    │ (\u001b[38;5;45mNone\u001b[0m, \u001b[38;5;34m14\u001b[0m, \u001b[38;5;34m14\u001b[0m, \u001b[38;5;34m256\u001b[0m)         │         \u001b[38;5;34m295,168\u001b[0m │\n",
       "├──────────────────────────────────────┼─────────────────────────────┼─────────────────┤\n",
       "│ conv2d_7 (\u001b[38;5;33mConv2D\u001b[0m)                    │ (\u001b[38;5;45mNone\u001b[0m, \u001b[38;5;34m12\u001b[0m, \u001b[38;5;34m12\u001b[0m, \u001b[38;5;34m256\u001b[0m)         │         \u001b[38;5;34m590,080\u001b[0m │\n",
       "├──────────────────────────────────────┼─────────────────────────────┼─────────────────┤\n",
       "│ max_pooling2d_3 (\u001b[38;5;33mMaxPooling2D\u001b[0m)       │ (\u001b[38;5;45mNone\u001b[0m, \u001b[38;5;34m6\u001b[0m, \u001b[38;5;34m6\u001b[0m, \u001b[38;5;34m256\u001b[0m)           │               \u001b[38;5;34m0\u001b[0m │\n",
       "├──────────────────────────────────────┼─────────────────────────────┼─────────────────┤\n",
       "│ conv2d_8 (\u001b[38;5;33mConv2D\u001b[0m)                    │ (\u001b[38;5;45mNone\u001b[0m, \u001b[38;5;34m6\u001b[0m, \u001b[38;5;34m6\u001b[0m, \u001b[38;5;34m512\u001b[0m)           │       \u001b[38;5;34m1,180,160\u001b[0m │\n",
       "├──────────────────────────────────────┼─────────────────────────────┼─────────────────┤\n",
       "│ conv2d_9 (\u001b[38;5;33mConv2D\u001b[0m)                    │ (\u001b[38;5;45mNone\u001b[0m, \u001b[38;5;34m4\u001b[0m, \u001b[38;5;34m4\u001b[0m, \u001b[38;5;34m512\u001b[0m)           │       \u001b[38;5;34m2,359,808\u001b[0m │\n",
       "├──────────────────────────────────────┼─────────────────────────────┼─────────────────┤\n",
       "│ max_pooling2d_4 (\u001b[38;5;33mMaxPooling2D\u001b[0m)       │ (\u001b[38;5;45mNone\u001b[0m, \u001b[38;5;34m2\u001b[0m, \u001b[38;5;34m2\u001b[0m, \u001b[38;5;34m512\u001b[0m)           │               \u001b[38;5;34m0\u001b[0m │\n",
       "├──────────────────────────────────────┼─────────────────────────────┼─────────────────┤\n",
       "│ dropout (\u001b[38;5;33mDropout\u001b[0m)                    │ (\u001b[38;5;45mNone\u001b[0m, \u001b[38;5;34m2\u001b[0m, \u001b[38;5;34m2\u001b[0m, \u001b[38;5;34m512\u001b[0m)           │               \u001b[38;5;34m0\u001b[0m │\n",
       "├──────────────────────────────────────┼─────────────────────────────┼─────────────────┤\n",
       "│ flatten (\u001b[38;5;33mFlatten\u001b[0m)                    │ (\u001b[38;5;45mNone\u001b[0m, \u001b[38;5;34m2048\u001b[0m)                │               \u001b[38;5;34m0\u001b[0m │\n",
       "├──────────────────────────────────────┼─────────────────────────────┼─────────────────┤\n",
       "│ dense (\u001b[38;5;33mDense\u001b[0m)                        │ (\u001b[38;5;45mNone\u001b[0m, \u001b[38;5;34m1500\u001b[0m)                │       \u001b[38;5;34m3,073,500\u001b[0m │\n",
       "├──────────────────────────────────────┼─────────────────────────────┼─────────────────┤\n",
       "│ dropout_1 (\u001b[38;5;33mDropout\u001b[0m)                  │ (\u001b[38;5;45mNone\u001b[0m, \u001b[38;5;34m1500\u001b[0m)                │               \u001b[38;5;34m0\u001b[0m │\n",
       "├──────────────────────────────────────┼─────────────────────────────┼─────────────────┤\n",
       "│ dense_1 (\u001b[38;5;33mDense\u001b[0m)                      │ (\u001b[38;5;45mNone\u001b[0m, \u001b[38;5;34m38\u001b[0m)                  │          \u001b[38;5;34m57,038\u001b[0m │\n",
       "└──────────────────────────────────────┴─────────────────────────────┴─────────────────┘\n"
      ]
     },
     "metadata": {},
     "output_type": "display_data"
    },
    {
     "data": {
      "text/html": [
       "<pre style=\"white-space:pre;overflow-x:auto;line-height:normal;font-family:Menlo,'DejaVu Sans Mono',consolas,'Courier New',monospace\"><span style=\"font-weight: bold\"> Total params: </span><span style=\"color: #00af00; text-decoration-color: #00af00\">7,842,762</span> (29.92 MB)\n",
       "</pre>\n"
      ],
      "text/plain": [
       "\u001b[1m Total params: \u001b[0m\u001b[38;5;34m7,842,762\u001b[0m (29.92 MB)\n"
      ]
     },
     "metadata": {},
     "output_type": "display_data"
    },
    {
     "data": {
      "text/html": [
       "<pre style=\"white-space:pre;overflow-x:auto;line-height:normal;font-family:Menlo,'DejaVu Sans Mono',consolas,'Courier New',monospace\"><span style=\"font-weight: bold\"> Trainable params: </span><span style=\"color: #00af00; text-decoration-color: #00af00\">7,842,762</span> (29.92 MB)\n",
       "</pre>\n"
      ],
      "text/plain": [
       "\u001b[1m Trainable params: \u001b[0m\u001b[38;5;34m7,842,762\u001b[0m (29.92 MB)\n"
      ]
     },
     "metadata": {},
     "output_type": "display_data"
    },
    {
     "data": {
      "text/html": [
       "<pre style=\"white-space:pre;overflow-x:auto;line-height:normal;font-family:Menlo,'DejaVu Sans Mono',consolas,'Courier New',monospace\"><span style=\"font-weight: bold\"> Non-trainable params: </span><span style=\"color: #00af00; text-decoration-color: #00af00\">0</span> (0.00 B)\n",
       "</pre>\n"
      ],
      "text/plain": [
       "\u001b[1m Non-trainable params: \u001b[0m\u001b[38;5;34m0\u001b[0m (0.00 B)\n"
      ]
     },
     "metadata": {},
     "output_type": "display_data"
    }
   ],
   "source": [
    "model.summary()"
   ]
  },
  {
   "cell_type": "code",
   "execution_count": null,
   "id": "40a39836-f21c-4f39-9127-a635781b753d",
   "metadata": {},
   "outputs": [],
   "source": []
  },
  {
   "cell_type": "markdown",
   "id": "2269846f-3524-455a-82b0-7b5f19808f24",
   "metadata": {},
   "source": [
    "### Model Training"
   ]
  },
  {
   "cell_type": "code",
   "execution_count": 32,
   "id": "e1db3b75-9456-4421-af6e-09f7396ae545",
   "metadata": {},
   "outputs": [
    {
     "name": "stdout",
     "output_type": "stream",
     "text": [
      "Epoch 1/10\n",
      "\u001b[1m2197/2197\u001b[0m \u001b[32m━━━━━━━━━━━━━━━━━━━━\u001b[0m\u001b[37m\u001b[0m \u001b[1m857s\u001b[0m 389ms/step - accuracy: 0.4151 - loss: 2.0788 - val_accuracy: 0.8444 - val_loss: 0.5091\n",
      "Epoch 2/10\n",
      "\u001b[1m2197/2197\u001b[0m \u001b[32m━━━━━━━━━━━━━━━━━━━━\u001b[0m\u001b[37m\u001b[0m \u001b[1m1757s\u001b[0m 800ms/step - accuracy: 0.8401 - loss: 0.5040 - val_accuracy: 0.9167 - val_loss: 0.2637\n",
      "Epoch 3/10\n",
      "\u001b[1m2197/2197\u001b[0m \u001b[32m━━━━━━━━━━━━━━━━━━━━\u001b[0m\u001b[37m\u001b[0m \u001b[1m986s\u001b[0m 449ms/step - accuracy: 0.9065 - loss: 0.2851 - val_accuracy: 0.9402 - val_loss: 0.1862\n",
      "Epoch 4/10\n",
      "\u001b[1m2197/2197\u001b[0m \u001b[32m━━━━━━━━━━━━━━━━━━━━\u001b[0m\u001b[37m\u001b[0m \u001b[1m1047s\u001b[0m 477ms/step - accuracy: 0.9392 - loss: 0.1858 - val_accuracy: 0.9354 - val_loss: 0.2023\n",
      "Epoch 5/10\n",
      "\u001b[1m2197/2197\u001b[0m \u001b[32m━━━━━━━━━━━━━━━━━━━━\u001b[0m\u001b[37m\u001b[0m \u001b[1m939s\u001b[0m 427ms/step - accuracy: 0.9547 - loss: 0.1414 - val_accuracy: 0.9549 - val_loss: 0.1384\n",
      "Epoch 6/10\n",
      "\u001b[1m2197/2197\u001b[0m \u001b[32m━━━━━━━━━━━━━━━━━━━━\u001b[0m\u001b[37m\u001b[0m \u001b[1m866s\u001b[0m 394ms/step - accuracy: 0.9665 - loss: 0.1004 - val_accuracy: 0.9578 - val_loss: 0.1342\n",
      "Epoch 7/10\n",
      "\u001b[1m2197/2197\u001b[0m \u001b[32m━━━━━━━━━━━━━━━━━━━━\u001b[0m\u001b[37m\u001b[0m \u001b[1m866s\u001b[0m 394ms/step - accuracy: 0.9706 - loss: 0.0887 - val_accuracy: 0.9556 - val_loss: 0.1403\n",
      "Epoch 8/10\n",
      "\u001b[1m2197/2197\u001b[0m \u001b[32m━━━━━━━━━━━━━━━━━━━━\u001b[0m\u001b[37m\u001b[0m \u001b[1m951s\u001b[0m 433ms/step - accuracy: 0.9754 - loss: 0.0755 - val_accuracy: 0.9684 - val_loss: 0.0985\n",
      "Epoch 9/10\n",
      "\u001b[1m2197/2197\u001b[0m \u001b[32m━━━━━━━━━━━━━━━━━━━━\u001b[0m\u001b[37m\u001b[0m \u001b[1m978s\u001b[0m 445ms/step - accuracy: 0.9814 - loss: 0.0564 - val_accuracy: 0.9652 - val_loss: 0.1159\n",
      "Epoch 10/10\n",
      "\u001b[1m2197/2197\u001b[0m \u001b[32m━━━━━━━━━━━━━━━━━━━━\u001b[0m\u001b[37m\u001b[0m \u001b[1m1263s\u001b[0m 575ms/step - accuracy: 0.9809 - loss: 0.0583 - val_accuracy: 0.9667 - val_loss: 0.1133\n"
     ]
    }
   ],
   "source": [
    "training_history = model.fit(x=training_set,validation_data=validation_set,epochs=10)"
   ]
  },
  {
   "cell_type": "code",
   "execution_count": null,
   "id": "b3e54c68-a620-4a58-9f00-f060d1acd385",
   "metadata": {},
   "outputs": [],
   "source": []
  },
  {
   "cell_type": "markdown",
   "id": "5e28bb6e-0418-48fe-a877-6071896f54d2",
   "metadata": {},
   "source": [
    "## Model Evaluation"
   ]
  },
  {
   "cell_type": "code",
   "execution_count": null,
   "id": "3dae228f-9b7a-4e78-a43a-07833982175e",
   "metadata": {},
   "outputs": [],
   "source": []
  },
  {
   "cell_type": "code",
   "execution_count": 34,
   "id": "1d2e4523-6a39-4322-b9a8-eef6ac2dec10",
   "metadata": {},
   "outputs": [
    {
     "name": "stdout",
     "output_type": "stream",
     "text": [
      "\u001b[1m2197/2197\u001b[0m \u001b[32m━━━━━━━━━━━━━━━━━━━━\u001b[0m\u001b[37m\u001b[0m \u001b[1m426s\u001b[0m 194ms/step - accuracy: 0.9907 - loss: 0.0295\n"
     ]
    }
   ],
   "source": [
    "#Model Evaluation on Training set\n",
    "train_loss,train_acc = model.evaluate(training_set)"
   ]
  },
  {
   "cell_type": "code",
   "execution_count": 35,
   "id": "a3f46373-0969-4b94-878d-d43871cee734",
   "metadata": {},
   "outputs": [
    {
     "name": "stdout",
     "output_type": "stream",
     "text": [
      "0.02796715684235096 0.9910092949867249\n"
     ]
    }
   ],
   "source": [
    "print(train_loss,train_acc)"
   ]
  },
  {
   "cell_type": "code",
   "execution_count": 36,
   "id": "79390e64-53e8-4f53-afdc-e21fdba21920",
   "metadata": {},
   "outputs": [
    {
     "name": "stdout",
     "output_type": "stream",
     "text": [
      "\u001b[1m550/550\u001b[0m \u001b[32m━━━━━━━━━━━━━━━━━━━━\u001b[0m\u001b[37m\u001b[0m \u001b[1m89s\u001b[0m 162ms/step - accuracy: 0.9652 - loss: 0.1092\n"
     ]
    }
   ],
   "source": [
    "# Model on validation set\n",
    "val_loss,val_acc = model.evaluate(validation_set)"
   ]
  },
  {
   "cell_type": "code",
   "execution_count": 37,
   "id": "f7a45e2b-d2d0-4595-97a3-439e1b3f9f1f",
   "metadata": {},
   "outputs": [
    {
     "name": "stdout",
     "output_type": "stream",
     "text": [
      "0.11325204372406006 0.9666514992713928\n"
     ]
    }
   ],
   "source": [
    "print(val_loss,val_acc)"
   ]
  },
  {
   "cell_type": "code",
   "execution_count": null,
   "id": "53cc588d-e388-4210-813e-24cdfe0a995a",
   "metadata": {},
   "outputs": [],
   "source": []
  },
  {
   "cell_type": "markdown",
   "id": "6618bd3d-3145-4a6c-ad9c-0101875c8619",
   "metadata": {},
   "source": [
    "## Saving Model"
   ]
  },
  {
   "cell_type": "code",
   "execution_count": 39,
   "id": "0b862a0a-c7fb-432c-bf16-e33300ba555c",
   "metadata": {},
   "outputs": [],
   "source": [
    "model.save(\"trained_model.keras\")\n",
    "model.save(\"trained_model.h5\")"
   ]
  },
  {
   "cell_type": "code",
   "execution_count": 40,
   "id": "c7097841-33c8-4ed0-9ad0-be314bde60f8",
   "metadata": {},
   "outputs": [
    {
     "data": {
      "text/plain": [
       "{'accuracy': [0.6147236824035645,\n",
       "  0.8635464906692505,\n",
       "  0.9168503880500793,\n",
       "  0.9423145055770874,\n",
       "  0.9568959474563599,\n",
       "  0.9667686223983765,\n",
       "  0.9727007746696472,\n",
       "  0.975261390209198,\n",
       "  0.9806244969367981,\n",
       "  0.9816060662269592],\n",
       " 'loss': [1.3164068460464478,\n",
       "  0.43051064014434814,\n",
       "  0.25785577297210693,\n",
       "  0.1751706302165985,\n",
       "  0.13356877863407135,\n",
       "  0.10050413757562637,\n",
       "  0.0846199318766594,\n",
       "  0.07605085521936417,\n",
       "  0.06059347838163376,\n",
       "  0.05552244186401367],\n",
       " 'val_accuracy': [0.8444115519523621,\n",
       "  0.9167425632476807,\n",
       "  0.9401889443397522,\n",
       "  0.9354085922241211,\n",
       "  0.9549282789230347,\n",
       "  0.9578306674957275,\n",
       "  0.9556112289428711,\n",
       "  0.9684156775474548,\n",
       "  0.9651718735694885,\n",
       "  0.9666514992713928],\n",
       " 'val_loss': [0.5090693831443787,\n",
       "  0.2637174129486084,\n",
       "  0.1862272173166275,\n",
       "  0.20231544971466064,\n",
       "  0.13842415809631348,\n",
       "  0.1342211365699768,\n",
       "  0.14030343294143677,\n",
       "  0.09851069003343582,\n",
       "  0.11589185148477554,\n",
       "  0.11325200647115707]}"
      ]
     },
     "execution_count": 40,
     "metadata": {},
     "output_type": "execute_result"
    }
   ],
   "source": [
    "training_history.history"
   ]
  },
  {
   "cell_type": "code",
   "execution_count": 41,
   "id": "c5480ad2-c475-4cb8-831b-10fb0d4dec73",
   "metadata": {},
   "outputs": [],
   "source": [
    "#Recording History in json\n",
    "import json\n",
    "with open(\"training_hist.json\",\"w\") as f:\n",
    "    json.dump(training_history.history,f) "
   ]
  },
  {
   "cell_type": "markdown",
   "id": "f2af3262-7811-4cec-a74b-29aae21c1c08",
   "metadata": {},
   "source": [
    "### Accuracy visualisation"
   ]
  },
  {
   "cell_type": "code",
   "execution_count": 43,
   "id": "f44c6fee-8bd9-48b7-9191-f39acca9ca8a",
   "metadata": {},
   "outputs": [
    {
     "data": {
      "image/png": "[encoded data removed]",
      "text/plain": [
       "<Figure size 640x480 with 1 Axes>"
      ]
     },
     "metadata": {},
     "output_type": "display_data"
    }
   ],
   "source": [
    "epochs = [i for i in range(1,11)]\n",
    "plt.plot(epochs,training_history.history['accuracy'],color='red',label='Training Accuracy')\n",
    "plt.plot(epochs,training_history.history['val_accuracy'],color='blue',label='Validation Accuracy')\n",
    "plt.xlabel(\"No. of Epochs\")\n",
    "plt.ylabel(\"Accuracy result\")\n",
    "plt.title(\"visualisation of Accuracy Result\")\n",
    "plt.legend()\n",
    "plt.show()"
   ]
  },
  {
   "cell_type": "markdown",
   "id": "2a4d83a5-39ca-4fce-aef1-e33d8ec14571",
   "metadata": {},
   "source": [
    "### Some other metrics for validation"
   ]
  },
  {
   "cell_type": "code",
   "execution_count": 45,
   "id": "25c08a9c-b8da-4b3b-baaa-56c5c533ce9d",
   "metadata": {
    "scrolled": true
   },
   "outputs": [
    {
     "data": {
      "text/plain": [
       "['Apple___Apple_scab',\n",
       " 'Apple___Black_rot',\n",
       " 'Apple___Cedar_apple_rust',\n",
       " 'Apple___healthy',\n",
       " 'Blueberry___healthy',\n",
       " 'Cherry_(including_sour)___Powdery_mildew',\n",
       " 'Cherry_(including_sour)___healthy',\n",
       " 'Corn_(maize)___Cercospora_leaf_spot Gray_leaf_spot',\n",
       " 'Corn_(maize)___Common_rust_',\n",
       " 'Corn_(maize)___Northern_Leaf_Blight',\n",
       " 'Corn_(maize)___healthy',\n",
       " 'Grape___Black_rot',\n",
       " 'Grape___Esca_(Black_Measles)',\n",
       " 'Grape___Leaf_blight_(Isariopsis_Leaf_Spot)',\n",
       " 'Grape___healthy',\n",
       " 'Orange___Haunglongbing_(Citrus_greening)',\n",
       " 'Peach___Bacterial_spot',\n",
       " 'Peach___healthy',\n",
       " 'Pepper,_bell___Bacterial_spot',\n",
       " 'Pepper,_bell___healthy',\n",
       " 'Potato___Early_blight',\n",
       " 'Potato___Late_blight',\n",
       " 'Potato___healthy',\n",
       " 'Raspberry___healthy',\n",
       " 'Soybean___healthy',\n",
       " 'Squash___Powdery_mildew',\n",
       " 'Strawberry___Leaf_scorch',\n",
       " 'Strawberry___healthy',\n",
       " 'Tomato___Bacterial_spot',\n",
       " 'Tomato___Early_blight',\n",
       " 'Tomato___Late_blight',\n",
       " 'Tomato___Leaf_Mold',\n",
       " 'Tomato___Septoria_leaf_spot',\n",
       " 'Tomato___Spider_mites Two-spotted_spider_mite',\n",
       " 'Tomato___Target_Spot',\n",
       " 'Tomato___Tomato_Yellow_Leaf_Curl_Virus',\n",
       " 'Tomato___Tomato_mosaic_virus',\n",
       " 'Tomato___healthy']"
      ]
     },
     "execution_count": 45,
     "metadata": {},
     "output_type": "execute_result"
    }
   ],
   "source": [
    "class_name = validation_set.class_names\n",
    "class_name"
   ]
  },
  {
   "cell_type": "code",
   "execution_count": 46,
   "id": "3be6591b-0332-4193-aaa3-946c33b66bf8",
   "metadata": {},
   "outputs": [
    {
     "name": "stdout",
     "output_type": "stream",
     "text": [
      "Found 17572 files belonging to 38 classes.\n"
     ]
    }
   ],
   "source": [
    "test_set = tf.keras.utils.image_dataset_from_directory(\n",
    "    'valid',\n",
    "    labels=\"inferred\",\n",
    "    label_mode=\"categorical\",\n",
    "    class_names=None,\n",
    "    color_mode=\"rgb\",\n",
    "    batch_size=32,\n",
    "    image_size=(128, 128),\n",
    "    shuffle=False,\n",
    "    seed=None,\n",
    "    validation_split=None,\n",
    "    subset=None,\n",
    "    interpolation=\"bilinear\",\n",
    "    follow_links=False,\n",
    "    crop_to_aspect_ratio=False,\n",
    "    pad_to_aspect_ratio=False,\n",
    "    verbose=True,\n",
    ")"
   ]
  },
  {
   "cell_type": "code",
   "execution_count": 47,
   "id": "bd8b247a-5e9c-4321-9c27-848568bc8744",
   "metadata": {},
   "outputs": [
    {
     "name": "stdout",
     "output_type": "stream",
     "text": [
      "\u001b[1m550/550\u001b[0m \u001b[32m━━━━━━━━━━━━━━━━━━━━\u001b[0m\u001b[37m\u001b[0m \u001b[1m89s\u001b[0m 161ms/step\n"
     ]
    },
    {
     "data": {
      "text/plain": [
       "(array([[9.9998009e-01, 3.6810860e-07, 4.4882240e-10, ..., 4.9989136e-13,\n",
       "         9.1795332e-13, 1.8489814e-11],\n",
       "        [1.0000000e+00, 2.5231358e-12, 1.0002600e-14, ..., 1.3657727e-18,\n",
       "         5.3372588e-17, 5.2890235e-16],\n",
       "        [1.0000000e+00, 2.1705307e-10, 1.3790359e-11, ..., 5.2715196e-16,\n",
       "         2.4658649e-14, 2.0233825e-12],\n",
       "        ...,\n",
       "        [4.5539895e-07, 6.0056613e-09, 2.4070701e-07, ..., 7.5992563e-09,\n",
       "         5.4363745e-09, 9.9875879e-01],\n",
       "        [1.2633473e-09, 9.0933143e-11, 7.3913076e-10, ..., 1.0953061e-09,\n",
       "         5.1505439e-10, 9.9999690e-01],\n",
       "        [2.0392629e-15, 1.0986201e-14, 4.3678753e-15, ..., 5.3413712e-16,\n",
       "         2.1776207e-13, 9.9999917e-01]], dtype=float32),\n",
       " (17572, 38))"
      ]
     },
     "execution_count": 47,
     "metadata": {},
     "output_type": "execute_result"
    }
   ],
   "source": [
    "y_pred = model.predict(test_set)\n",
    "y_pred,y_pred.shape"
   ]
  },
  {
   "cell_type": "code",
   "execution_count": null,
   "id": "fc246d4a-1beb-4d27-8731-5ff03524ca5e",
   "metadata": {},
   "outputs": [],
   "source": []
  }
 ],
 "metadata": {
  "kernelspec": {
   "display_name": "tensorflow_kernal",
   "language": "python",
   "name": "tensorflow_kernal"
  },
  "language_info": {
   "codemirror_mode": {
    "name": "ipython",
    "version": 3
   },
   "file_extension": ".py",
   "mimetype": "text/x-python",
   "name": "python",
   "nbconvert_exporter": "python",
   "pygments_lexer": "ipython3",
   "version": "3.12.2"
  }
 },
 "nbformat": 4,
 "nbformat_minor": 5
}
